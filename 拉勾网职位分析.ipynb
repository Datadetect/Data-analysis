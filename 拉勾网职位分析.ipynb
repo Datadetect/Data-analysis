{
 "cells": [
  {
   "cell_type": "markdown",
   "metadata": {},
   "source": [
    "对拉勾网中，市场类别中的，招聘岗位为地址在深圳的商业数据分析的299个岗位进行数据爬取，整理和分析"
   ]
  },
  {
   "cell_type": "code",
   "execution_count": 280,
   "metadata": {},
   "outputs": [],
   "source": [
    "import pandas as pd \n",
    "import matplotlib.pyplot as plt\n",
    "import seaborn as sns\n",
    "%matplotlib inline\n",
    "import numpy as np"
   ]
  },
  {
   "cell_type": "code",
   "execution_count": 244,
   "metadata": {},
   "outputs": [],
   "source": [
    "lagou = pd.read_csv('data.csv') "
   ]
  },
  {
   "cell_type": "markdown",
   "metadata": {},
   "source": [
    "# 1 数据概况"
   ]
  },
  {
   "cell_type": "code",
   "execution_count": 245,
   "metadata": {},
   "outputs": [
    {
     "name": "stdout",
     "output_type": "stream",
     "text": [
      "<class 'pandas.core.frame.DataFrame'>\n",
      "RangeIndex: 299 entries, 0 to 298\n",
      "Data columns (total 7 columns):\n",
      " #   Column                 Non-Null Count  Dtype \n",
      "---  ------                 --------------  ----- \n",
      " 0   web-scraper-order      299 non-null    object\n",
      " 1   web-scraper-start-url  299 non-null    object\n",
      " 2   type                   299 non-null    object\n",
      " 3   experience             299 non-null    object\n",
      " 4   jobname                299 non-null    object\n",
      " 5   address                299 non-null    object\n",
      " 6   company                299 non-null    object\n",
      "dtypes: object(7)\n",
      "memory usage: 16.5+ KB\n"
     ]
    }
   ],
   "source": [
    "lagou.info()"
   ]
  },
  {
   "cell_type": "code",
   "execution_count": 246,
   "metadata": {},
   "outputs": [
    {
     "data": {
      "text/html": [
       "<div>\n",
       "<style scoped>\n",
       "    .dataframe tbody tr th:only-of-type {\n",
       "        vertical-align: middle;\n",
       "    }\n",
       "\n",
       "    .dataframe tbody tr th {\n",
       "        vertical-align: top;\n",
       "    }\n",
       "\n",
       "    .dataframe thead th {\n",
       "        text-align: right;\n",
       "    }\n",
       "</style>\n",
       "<table border=\"1\" class=\"dataframe\">\n",
       "  <thead>\n",
       "    <tr style=\"text-align: right;\">\n",
       "      <th></th>\n",
       "      <th>web-scraper-order</th>\n",
       "      <th>web-scraper-start-url</th>\n",
       "      <th>type</th>\n",
       "      <th>experience</th>\n",
       "      <th>jobname</th>\n",
       "      <th>address</th>\n",
       "      <th>company</th>\n",
       "    </tr>\n",
       "  </thead>\n",
       "  <tbody>\n",
       "    <tr>\n",
       "      <th>0</th>\n",
       "      <td>1593617828-500</td>\n",
       "      <td>https://www.lagou.com/shenzhen-zhaopin/shangye...</td>\n",
       "      <td>教育,移动互联网 / C轮 / 2000人以上</td>\n",
       "      <td>15k-30k\\n                                    经...</td>\n",
       "      <td>数据分析师</td>\n",
       "      <td>国贸</td>\n",
       "      <td>阿卡索外教网</td>\n",
       "    </tr>\n",
       "    <tr>\n",
       "      <th>1</th>\n",
       "      <td>1593617757-386</td>\n",
       "      <td>https://www.lagou.com/shenzhen-zhaopin/shangye...</td>\n",
       "      <td>企业服务 / 上市公司 / 500-2000人</td>\n",
       "      <td>25k-35k\\n                                    经...</td>\n",
       "      <td>T1226高级数据分析师 (MJ000146)</td>\n",
       "      <td>南山区</td>\n",
       "      <td>极光</td>\n",
       "    </tr>\n",
       "    <tr>\n",
       "      <th>2</th>\n",
       "      <td>1593617757-388</td>\n",
       "      <td>https://www.lagou.com/shenzhen-zhaopin/shangye...</td>\n",
       "      <td>移动互联网,金融 / 上市公司 / 2000人以上</td>\n",
       "      <td>20k-40k\\n                                    经...</td>\n",
       "      <td>数据分析岗</td>\n",
       "      <td>福田区</td>\n",
       "      <td>中信银行信用卡中心</td>\n",
       "    </tr>\n",
       "    <tr>\n",
       "      <th>3</th>\n",
       "      <td>1593617782-420</td>\n",
       "      <td>https://www.lagou.com/shenzhen-zhaopin/shangye...</td>\n",
       "      <td>文娱丨内容 / C轮 / 2000人以上</td>\n",
       "      <td>15k-30k\\n                                    经...</td>\n",
       "      <td>市场与用户研究经理——数据分析方向</td>\n",
       "      <td>南山区</td>\n",
       "      <td>字节跳动</td>\n",
       "    </tr>\n",
       "    <tr>\n",
       "      <th>4</th>\n",
       "      <td>1593617736-351</td>\n",
       "      <td>https://www.lagou.com/shenzhen-zhaopin/shangye...</td>\n",
       "      <td>通讯电子,其他 / 不需要融资 / 150-500人</td>\n",
       "      <td>15k-25k\\n                                    经...</td>\n",
       "      <td>市场分析/市场调研</td>\n",
       "      <td>南油</td>\n",
       "      <td>三星电机</td>\n",
       "    </tr>\n",
       "  </tbody>\n",
       "</table>\n",
       "</div>"
      ],
      "text/plain": [
       "  web-scraper-order                              web-scraper-start-url  \\\n",
       "0    1593617828-500  https://www.lagou.com/shenzhen-zhaopin/shangye...   \n",
       "1    1593617757-386  https://www.lagou.com/shenzhen-zhaopin/shangye...   \n",
       "2    1593617757-388  https://www.lagou.com/shenzhen-zhaopin/shangye...   \n",
       "3    1593617782-420  https://www.lagou.com/shenzhen-zhaopin/shangye...   \n",
       "4    1593617736-351  https://www.lagou.com/shenzhen-zhaopin/shangye...   \n",
       "\n",
       "                         type  \\\n",
       "0     教育,移动互联网 / C轮 / 2000人以上   \n",
       "1     企业服务 / 上市公司 / 500-2000人   \n",
       "2   移动互联网,金融 / 上市公司 / 2000人以上   \n",
       "3        文娱丨内容 / C轮 / 2000人以上   \n",
       "4  通讯电子,其他 / 不需要融资 / 150-500人   \n",
       "\n",
       "                                          experience                  jobname  \\\n",
       "0  15k-30k\\n                                    经...                    数据分析师   \n",
       "1  25k-35k\\n                                    经...  T1226高级数据分析师 (MJ000146)   \n",
       "2  20k-40k\\n                                    经...                    数据分析岗   \n",
       "3  15k-30k\\n                                    经...        市场与用户研究经理——数据分析方向   \n",
       "4  15k-25k\\n                                    经...                市场分析/市场调研   \n",
       "\n",
       "  address    company  \n",
       "0      国贸     阿卡索外教网  \n",
       "1     南山区         极光  \n",
       "2     福田区  中信银行信用卡中心  \n",
       "3     南山区       字节跳动  \n",
       "4      南油       三星电机  "
      ]
     },
     "execution_count": 246,
     "metadata": {},
     "output_type": "execute_result"
    }
   ],
   "source": [
    "lagou.head()"
   ]
  },
  {
   "cell_type": "markdown",
   "metadata": {},
   "source": [
    "总共爬取了299个‘商业数据分析’岗位的相关职位信息，接下来对数据进行重新整理"
   ]
  },
  {
   "cell_type": "markdown",
   "metadata": {},
   "source": [
    "## 2数据清洗"
   ]
  },
  {
   "cell_type": "code",
   "execution_count": 247,
   "metadata": {},
   "outputs": [],
   "source": [
    "#去掉无用的列\n",
    "lagou.drop(['web-scraper-order', 'web-scraper-start-url'], axis = 1, inplace = True)"
   ]
  },
  {
   "cell_type": "code",
   "execution_count": 248,
   "metadata": {},
   "outputs": [
    {
     "data": {
      "text/html": [
       "<div>\n",
       "<style scoped>\n",
       "    .dataframe tbody tr th:only-of-type {\n",
       "        vertical-align: middle;\n",
       "    }\n",
       "\n",
       "    .dataframe tbody tr th {\n",
       "        vertical-align: top;\n",
       "    }\n",
       "\n",
       "    .dataframe thead th {\n",
       "        text-align: right;\n",
       "    }\n",
       "</style>\n",
       "<table border=\"1\" class=\"dataframe\">\n",
       "  <thead>\n",
       "    <tr style=\"text-align: right;\">\n",
       "      <th></th>\n",
       "      <th>type</th>\n",
       "      <th>experience</th>\n",
       "      <th>jobname</th>\n",
       "      <th>address</th>\n",
       "      <th>company</th>\n",
       "    </tr>\n",
       "  </thead>\n",
       "  <tbody>\n",
       "    <tr>\n",
       "      <th>0</th>\n",
       "      <td>教育,移动互联网 / C轮 / 2000人以上</td>\n",
       "      <td>15k-30k\\n                                    经...</td>\n",
       "      <td>数据分析师</td>\n",
       "      <td>国贸</td>\n",
       "      <td>阿卡索外教网</td>\n",
       "    </tr>\n",
       "    <tr>\n",
       "      <th>1</th>\n",
       "      <td>企业服务 / 上市公司 / 500-2000人</td>\n",
       "      <td>25k-35k\\n                                    经...</td>\n",
       "      <td>T1226高级数据分析师 (MJ000146)</td>\n",
       "      <td>南山区</td>\n",
       "      <td>极光</td>\n",
       "    </tr>\n",
       "    <tr>\n",
       "      <th>2</th>\n",
       "      <td>移动互联网,金融 / 上市公司 / 2000人以上</td>\n",
       "      <td>20k-40k\\n                                    经...</td>\n",
       "      <td>数据分析岗</td>\n",
       "      <td>福田区</td>\n",
       "      <td>中信银行信用卡中心</td>\n",
       "    </tr>\n",
       "    <tr>\n",
       "      <th>3</th>\n",
       "      <td>文娱丨内容 / C轮 / 2000人以上</td>\n",
       "      <td>15k-30k\\n                                    经...</td>\n",
       "      <td>市场与用户研究经理——数据分析方向</td>\n",
       "      <td>南山区</td>\n",
       "      <td>字节跳动</td>\n",
       "    </tr>\n",
       "    <tr>\n",
       "      <th>4</th>\n",
       "      <td>通讯电子,其他 / 不需要融资 / 150-500人</td>\n",
       "      <td>15k-25k\\n                                    经...</td>\n",
       "      <td>市场分析/市场调研</td>\n",
       "      <td>南油</td>\n",
       "      <td>三星电机</td>\n",
       "    </tr>\n",
       "  </tbody>\n",
       "</table>\n",
       "</div>"
      ],
      "text/plain": [
       "                         type  \\\n",
       "0     教育,移动互联网 / C轮 / 2000人以上   \n",
       "1     企业服务 / 上市公司 / 500-2000人   \n",
       "2   移动互联网,金融 / 上市公司 / 2000人以上   \n",
       "3        文娱丨内容 / C轮 / 2000人以上   \n",
       "4  通讯电子,其他 / 不需要融资 / 150-500人   \n",
       "\n",
       "                                          experience                  jobname  \\\n",
       "0  15k-30k\\n                                    经...                    数据分析师   \n",
       "1  25k-35k\\n                                    经...  T1226高级数据分析师 (MJ000146)   \n",
       "2  20k-40k\\n                                    经...                    数据分析岗   \n",
       "3  15k-30k\\n                                    经...        市场与用户研究经理——数据分析方向   \n",
       "4  15k-25k\\n                                    经...                市场分析/市场调研   \n",
       "\n",
       "  address    company  \n",
       "0      国贸     阿卡索外教网  \n",
       "1     南山区         极光  \n",
       "2     福田区  中信银行信用卡中心  \n",
       "3     南山区       字节跳动  \n",
       "4      南油       三星电机  "
      ]
     },
     "execution_count": 248,
     "metadata": {},
     "output_type": "execute_result"
    }
   ],
   "source": [
    "lagou.head()"
   ]
  },
  {
   "cell_type": "code",
   "execution_count": 249,
   "metadata": {},
   "outputs": [],
   "source": [
    "#分割公司类型，公司规模，融资状况为单独的列，并删除原列\n",
    "lagou['cat'] = lagou['type'].map(lambda x:x.split('/')[0])\n",
    "lagou['fiance'] = lagou['type'].map(lambda x:x.split('/')[1])\n",
    "lagou['size'] = lagou['type'].map(lambda x:x.split('/')[2])\n",
    "lagou.drop(['type'], axis = 1, inplace = True)"
   ]
  },
  {
   "cell_type": "code",
   "execution_count": 251,
   "metadata": {},
   "outputs": [
    {
     "data": {
      "text/html": [
       "<div>\n",
       "<style scoped>\n",
       "    .dataframe tbody tr th:only-of-type {\n",
       "        vertical-align: middle;\n",
       "    }\n",
       "\n",
       "    .dataframe tbody tr th {\n",
       "        vertical-align: top;\n",
       "    }\n",
       "\n",
       "    .dataframe thead th {\n",
       "        text-align: right;\n",
       "    }\n",
       "</style>\n",
       "<table border=\"1\" class=\"dataframe\">\n",
       "  <thead>\n",
       "    <tr style=\"text-align: right;\">\n",
       "      <th></th>\n",
       "      <th>experience</th>\n",
       "      <th>jobname</th>\n",
       "      <th>address</th>\n",
       "      <th>company</th>\n",
       "      <th>cat</th>\n",
       "      <th>fiance</th>\n",
       "      <th>size</th>\n",
       "    </tr>\n",
       "  </thead>\n",
       "  <tbody>\n",
       "    <tr>\n",
       "      <th>0</th>\n",
       "      <td>15k-30k\\n                                    经...</td>\n",
       "      <td>数据分析师</td>\n",
       "      <td>国贸</td>\n",
       "      <td>阿卡索外教网</td>\n",
       "      <td>教育,移动互联网</td>\n",
       "      <td>C轮</td>\n",
       "      <td>2000人以上</td>\n",
       "    </tr>\n",
       "    <tr>\n",
       "      <th>1</th>\n",
       "      <td>25k-35k\\n                                    经...</td>\n",
       "      <td>T1226高级数据分析师 (MJ000146)</td>\n",
       "      <td>南山区</td>\n",
       "      <td>极光</td>\n",
       "      <td>企业服务</td>\n",
       "      <td>上市公司</td>\n",
       "      <td>500-2000人</td>\n",
       "    </tr>\n",
       "    <tr>\n",
       "      <th>2</th>\n",
       "      <td>20k-40k\\n                                    经...</td>\n",
       "      <td>数据分析岗</td>\n",
       "      <td>福田区</td>\n",
       "      <td>中信银行信用卡中心</td>\n",
       "      <td>移动互联网,金融</td>\n",
       "      <td>上市公司</td>\n",
       "      <td>2000人以上</td>\n",
       "    </tr>\n",
       "    <tr>\n",
       "      <th>3</th>\n",
       "      <td>15k-30k\\n                                    经...</td>\n",
       "      <td>市场与用户研究经理——数据分析方向</td>\n",
       "      <td>南山区</td>\n",
       "      <td>字节跳动</td>\n",
       "      <td>文娱丨内容</td>\n",
       "      <td>C轮</td>\n",
       "      <td>2000人以上</td>\n",
       "    </tr>\n",
       "    <tr>\n",
       "      <th>4</th>\n",
       "      <td>15k-25k\\n                                    经...</td>\n",
       "      <td>市场分析/市场调研</td>\n",
       "      <td>南油</td>\n",
       "      <td>三星电机</td>\n",
       "      <td>通讯电子,其他</td>\n",
       "      <td>不需要融资</td>\n",
       "      <td>150-500人</td>\n",
       "    </tr>\n",
       "  </tbody>\n",
       "</table>\n",
       "</div>"
      ],
      "text/plain": [
       "                                          experience                  jobname  \\\n",
       "0  15k-30k\\n                                    经...                    数据分析师   \n",
       "1  25k-35k\\n                                    经...  T1226高级数据分析师 (MJ000146)   \n",
       "2  20k-40k\\n                                    经...                    数据分析岗   \n",
       "3  15k-30k\\n                                    经...        市场与用户研究经理——数据分析方向   \n",
       "4  15k-25k\\n                                    经...                市场分析/市场调研   \n",
       "\n",
       "  address    company        cat   fiance        size  \n",
       "0      国贸     阿卡索外教网  教育,移动互联网       C轮      2000人以上  \n",
       "1     南山区         极光      企业服务     上市公司    500-2000人  \n",
       "2     福田区  中信银行信用卡中心  移动互联网,金融     上市公司      2000人以上  \n",
       "3     南山区       字节跳动     文娱丨内容       C轮      2000人以上  \n",
       "4      南油       三星电机   通讯电子,其他    不需要融资     150-500人  "
      ]
     },
     "execution_count": 251,
     "metadata": {},
     "output_type": "execute_result"
    }
   ],
   "source": [
    "lagou.head()"
   ]
  },
  {
   "cell_type": "code",
   "execution_count": 252,
   "metadata": {},
   "outputs": [],
   "source": [
    "#分割薪资，经验和学历\n",
    "lagou['salary'] = lagou['experience'].map(lambda x:x.split('\\n')[0])\n",
    "lagou['exper'] = lagou['experience'].map(lambda x:x.split('\\n')[1])\n",
    "lagou.drop('experience', axis = 1, inplace = True)"
   ]
  },
  {
   "cell_type": "code",
   "execution_count": 253,
   "metadata": {},
   "outputs": [],
   "source": [
    "lagou['experience'] = lagou['exper'].map(lambda x:x.split('/')[0])\n",
    "lagou['education'] = lagou['exper'].map(lambda x:x.split('/')[1])\n",
    "lagou.drop('exper', axis = 1, inplace = True)"
   ]
  },
  {
   "cell_type": "code",
   "execution_count": 254,
   "metadata": {},
   "outputs": [
    {
     "data": {
      "text/html": [
       "<div>\n",
       "<style scoped>\n",
       "    .dataframe tbody tr th:only-of-type {\n",
       "        vertical-align: middle;\n",
       "    }\n",
       "\n",
       "    .dataframe tbody tr th {\n",
       "        vertical-align: top;\n",
       "    }\n",
       "\n",
       "    .dataframe thead th {\n",
       "        text-align: right;\n",
       "    }\n",
       "</style>\n",
       "<table border=\"1\" class=\"dataframe\">\n",
       "  <thead>\n",
       "    <tr style=\"text-align: right;\">\n",
       "      <th></th>\n",
       "      <th>jobname</th>\n",
       "      <th>address</th>\n",
       "      <th>company</th>\n",
       "      <th>cat</th>\n",
       "      <th>fiance</th>\n",
       "      <th>size</th>\n",
       "      <th>salary</th>\n",
       "      <th>experience</th>\n",
       "      <th>education</th>\n",
       "    </tr>\n",
       "  </thead>\n",
       "  <tbody>\n",
       "    <tr>\n",
       "      <th>0</th>\n",
       "      <td>数据分析师</td>\n",
       "      <td>国贸</td>\n",
       "      <td>阿卡索外教网</td>\n",
       "      <td>教育,移动互联网</td>\n",
       "      <td>C轮</td>\n",
       "      <td>2000人以上</td>\n",
       "      <td>15k-30k</td>\n",
       "      <td>经验应届毕业生</td>\n",
       "      <td>大专</td>\n",
       "    </tr>\n",
       "    <tr>\n",
       "      <th>1</th>\n",
       "      <td>T1226高级数据分析师 (MJ000146)</td>\n",
       "      <td>南山区</td>\n",
       "      <td>极光</td>\n",
       "      <td>企业服务</td>\n",
       "      <td>上市公司</td>\n",
       "      <td>500-2000人</td>\n",
       "      <td>25k-35k</td>\n",
       "      <td>经验3-5年</td>\n",
       "      <td>本科</td>\n",
       "    </tr>\n",
       "    <tr>\n",
       "      <th>2</th>\n",
       "      <td>数据分析岗</td>\n",
       "      <td>福田区</td>\n",
       "      <td>中信银行信用卡中心</td>\n",
       "      <td>移动互联网,金融</td>\n",
       "      <td>上市公司</td>\n",
       "      <td>2000人以上</td>\n",
       "      <td>20k-40k</td>\n",
       "      <td>经验3-5年</td>\n",
       "      <td>不限</td>\n",
       "    </tr>\n",
       "    <tr>\n",
       "      <th>3</th>\n",
       "      <td>市场与用户研究经理——数据分析方向</td>\n",
       "      <td>南山区</td>\n",
       "      <td>字节跳动</td>\n",
       "      <td>文娱丨内容</td>\n",
       "      <td>C轮</td>\n",
       "      <td>2000人以上</td>\n",
       "      <td>15k-30k</td>\n",
       "      <td>经验3-5年</td>\n",
       "      <td>本科</td>\n",
       "    </tr>\n",
       "    <tr>\n",
       "      <th>4</th>\n",
       "      <td>市场分析/市场调研</td>\n",
       "      <td>南油</td>\n",
       "      <td>三星电机</td>\n",
       "      <td>通讯电子,其他</td>\n",
       "      <td>不需要融资</td>\n",
       "      <td>150-500人</td>\n",
       "      <td>15k-25k</td>\n",
       "      <td>经验3-5年</td>\n",
       "      <td>本科</td>\n",
       "    </tr>\n",
       "    <tr>\n",
       "      <th>5</th>\n",
       "      <td>商业数据分析师</td>\n",
       "      <td>华侨城</td>\n",
       "      <td>超级猩猩健身</td>\n",
       "      <td>移动互联网</td>\n",
       "      <td>D轮及以上</td>\n",
       "      <td>150-500人</td>\n",
       "      <td>15k-25k</td>\n",
       "      <td>经验3-5年</td>\n",
       "      <td>不限</td>\n",
       "    </tr>\n",
       "    <tr>\n",
       "      <th>6</th>\n",
       "      <td>游戏业务中台数据分析师</td>\n",
       "      <td>南山区</td>\n",
       "      <td>字节跳动</td>\n",
       "      <td>文娱丨内容</td>\n",
       "      <td>C轮</td>\n",
       "      <td>2000人以上</td>\n",
       "      <td>18k-36k</td>\n",
       "      <td>经验不限</td>\n",
       "      <td>本科</td>\n",
       "    </tr>\n",
       "    <tr>\n",
       "      <th>7</th>\n",
       "      <td>游戏数据分析师</td>\n",
       "      <td>南山区</td>\n",
       "      <td>动能无线</td>\n",
       "      <td>移动互联网,广告营销</td>\n",
       "      <td>未融资</td>\n",
       "      <td>50-150人</td>\n",
       "      <td>8k-16k</td>\n",
       "      <td>经验1-3年</td>\n",
       "      <td>本科</td>\n",
       "    </tr>\n",
       "    <tr>\n",
       "      <th>8</th>\n",
       "      <td>金融/银行/互联网 数据分析 数据挖掘岗</td>\n",
       "      <td>福田区</td>\n",
       "      <td>长亮科技</td>\n",
       "      <td>企业服务</td>\n",
       "      <td>上市公司</td>\n",
       "      <td>2000人以上</td>\n",
       "      <td>10k-15k</td>\n",
       "      <td>经验1-3年</td>\n",
       "      <td>本科</td>\n",
       "    </tr>\n",
       "    <tr>\n",
       "      <th>9</th>\n",
       "      <td>数据分析师</td>\n",
       "      <td>南山区</td>\n",
       "      <td>微众信科</td>\n",
       "      <td>金融,数据服务</td>\n",
       "      <td>D轮及以上</td>\n",
       "      <td>150-500人</td>\n",
       "      <td>10k-18k</td>\n",
       "      <td>经验不限</td>\n",
       "      <td>硕士</td>\n",
       "    </tr>\n",
       "  </tbody>\n",
       "</table>\n",
       "</div>"
      ],
      "text/plain": [
       "                   jobname address    company          cat   fiance  \\\n",
       "0                    数据分析师      国贸     阿卡索外教网    教育,移动互联网       C轮    \n",
       "1  T1226高级数据分析师 (MJ000146)     南山区         极光        企业服务     上市公司    \n",
       "2                    数据分析岗     福田区  中信银行信用卡中心    移动互联网,金融     上市公司    \n",
       "3        市场与用户研究经理——数据分析方向     南山区       字节跳动       文娱丨内容       C轮    \n",
       "4                市场分析/市场调研      南油       三星电机     通讯电子,其他    不需要融资    \n",
       "5                  商业数据分析师     华侨城     超级猩猩健身       移动互联网    D轮及以上    \n",
       "6              游戏业务中台数据分析师     南山区       字节跳动       文娱丨内容       C轮    \n",
       "7                  游戏数据分析师     南山区       动能无线  移动互联网,广告营销      未融资    \n",
       "8     金融/银行/互联网 数据分析 数据挖掘岗     福田区       长亮科技        企业服务     上市公司    \n",
       "9                    数据分析师     南山区       微众信科     金融,数据服务    D轮及以上    \n",
       "\n",
       "         size   salary                                    experience education  \n",
       "0     2000人以上  15k-30k                                      经验应届毕业生         大专  \n",
       "1   500-2000人  25k-35k                                       经验3-5年         本科  \n",
       "2     2000人以上  20k-40k                                       经验3-5年         不限  \n",
       "3     2000人以上  15k-30k                                       经验3-5年         本科  \n",
       "4    150-500人  15k-25k                                       经验3-5年         本科  \n",
       "5    150-500人  15k-25k                                       经验3-5年         不限  \n",
       "6     2000人以上  18k-36k                                         经验不限         本科  \n",
       "7     50-150人   8k-16k                                       经验1-3年         本科  \n",
       "8     2000人以上  10k-15k                                       经验1-3年         本科  \n",
       "9    150-500人  10k-18k                                         经验不限         硕士  "
      ]
     },
     "execution_count": 254,
     "metadata": {},
     "output_type": "execute_result"
    }
   ],
   "source": [
    "lagou.head(10)"
   ]
  },
  {
   "cell_type": "code",
   "execution_count": 255,
   "metadata": {},
   "outputs": [],
   "source": [
    "#行业领域分割，以行业类别中的第一类为主\n",
    "#因为cat内多个行业之间的分隔符不统一(有逗号，顿号，竖线)，先进行统一\n",
    "lagou['cat'] = lagou['cat'].str.replace(' ',',')\n",
    "lagou['cat'] = lagou['cat'].str.replace('、', ',')\n",
    "lagou['cat'] = lagou['cat'].str.replace('丨', ',')\n",
    "lagou['type'] = lagou['cat'].map(lambda x:x.split(',')[0])\n",
    "lagou.drop('cat', axis = 1, inplace = True)"
   ]
  },
  {
   "cell_type": "code",
   "execution_count": 256,
   "metadata": {},
   "outputs": [
    {
     "data": {
      "text/html": [
       "<div>\n",
       "<style scoped>\n",
       "    .dataframe tbody tr th:only-of-type {\n",
       "        vertical-align: middle;\n",
       "    }\n",
       "\n",
       "    .dataframe tbody tr th {\n",
       "        vertical-align: top;\n",
       "    }\n",
       "\n",
       "    .dataframe thead th {\n",
       "        text-align: right;\n",
       "    }\n",
       "</style>\n",
       "<table border=\"1\" class=\"dataframe\">\n",
       "  <thead>\n",
       "    <tr style=\"text-align: right;\">\n",
       "      <th></th>\n",
       "      <th>jobname</th>\n",
       "      <th>address</th>\n",
       "      <th>company</th>\n",
       "      <th>cat</th>\n",
       "      <th>fiance</th>\n",
       "      <th>size</th>\n",
       "      <th>salary</th>\n",
       "      <th>experience</th>\n",
       "      <th>education</th>\n",
       "      <th>type</th>\n",
       "    </tr>\n",
       "  </thead>\n",
       "  <tbody>\n",
       "    <tr>\n",
       "      <th>294</th>\n",
       "      <td>数据分析师</td>\n",
       "      <td>科技园</td>\n",
       "      <td>来电科技</td>\n",
       "      <td>移动互联网,消费生活,</td>\n",
       "      <td>不需要融资</td>\n",
       "      <td>2000人以上</td>\n",
       "      <td>11k-16k·13薪</td>\n",
       "      <td>经验3-5年</td>\n",
       "      <td>本科</td>\n",
       "      <td>移动互联网</td>\n",
       "    </tr>\n",
       "    <tr>\n",
       "      <th>295</th>\n",
       "      <td>数据分析专家</td>\n",
       "      <td>南山区</td>\n",
       "      <td>字节跳动</td>\n",
       "      <td>文娱,内容,</td>\n",
       "      <td>C轮</td>\n",
       "      <td>2000人以上</td>\n",
       "      <td>35k-70k</td>\n",
       "      <td>经验不限</td>\n",
       "      <td>本科</td>\n",
       "      <td>文娱</td>\n",
       "    </tr>\n",
       "    <tr>\n",
       "      <th>296</th>\n",
       "      <td>数据分析师（社会化媒体方向）(J11446)</td>\n",
       "      <td>科技园</td>\n",
       "      <td>明略科技集团</td>\n",
       "      <td>数据服务,广告营销,</td>\n",
       "      <td>D轮及以上</td>\n",
       "      <td>2000人以上</td>\n",
       "      <td>6k-8k</td>\n",
       "      <td>经验1-3年</td>\n",
       "      <td>本科</td>\n",
       "      <td>数据服务</td>\n",
       "    </tr>\n",
       "    <tr>\n",
       "      <th>297</th>\n",
       "      <td>数据分析</td>\n",
       "      <td>福田区</td>\n",
       "      <td>菲凡数据</td>\n",
       "      <td>电商,数据服务,</td>\n",
       "      <td>不需要融资</td>\n",
       "      <td>50-150人</td>\n",
       "      <td>10k-15k</td>\n",
       "      <td>经验3-5年</td>\n",
       "      <td>本科</td>\n",
       "      <td>电商</td>\n",
       "    </tr>\n",
       "    <tr>\n",
       "      <th>298</th>\n",
       "      <td>数据分析师</td>\n",
       "      <td>科技园</td>\n",
       "      <td>微众信科</td>\n",
       "      <td>金融,数据服务,</td>\n",
       "      <td>D轮及以上</td>\n",
       "      <td>150-500人</td>\n",
       "      <td>15k-25k</td>\n",
       "      <td>经验3-5年</td>\n",
       "      <td>本科</td>\n",
       "      <td>金融</td>\n",
       "    </tr>\n",
       "  </tbody>\n",
       "</table>\n",
       "</div>"
      ],
      "text/plain": [
       "                    jobname address company          cat   fiance       size  \\\n",
       "294                   数据分析师     科技园    来电科技  移动互联网,消费生活,   不需要融资     2000人以上   \n",
       "295                  数据分析专家     南山区    字节跳动       文娱,内容,      C轮     2000人以上   \n",
       "296  数据分析师（社会化媒体方向）(J11446)     科技园  明略科技集团   数据服务,广告营销,   D轮及以上     2000人以上   \n",
       "297                    数据分析     福田区    菲凡数据     电商,数据服务,   不需要融资     50-150人   \n",
       "298                   数据分析师     科技园    微众信科     金融,数据服务,   D轮及以上    150-500人   \n",
       "\n",
       "          salary                                   experience education   type  \n",
       "294  11k-16k·13薪                                      经验3-5年         本科  移动互联网  \n",
       "295      35k-70k                                        经验不限         本科     文娱  \n",
       "296        6k-8k                                      经验1-3年         本科   数据服务  \n",
       "297      10k-15k                                      经验3-5年         本科     电商  \n",
       "298      15k-25k                                      经验3-5年         本科     金融  "
      ]
     },
     "execution_count": 256,
     "metadata": {},
     "output_type": "execute_result"
    }
   ],
   "source": [
    "lagou.tail(5)"
   ]
  },
  {
   "cell_type": "code",
   "execution_count": 258,
   "metadata": {},
   "outputs": [],
   "source": [
    "#salary中混入了‘·xxx薪'的情况\n",
    "lagou['salary'] = lagou['salary'].str.replace('·...', '')"
   ]
  },
  {
   "cell_type": "code",
   "execution_count": 265,
   "metadata": {},
   "outputs": [
    {
     "data": {
      "text/html": [
       "<div>\n",
       "<style scoped>\n",
       "    .dataframe tbody tr th:only-of-type {\n",
       "        vertical-align: middle;\n",
       "    }\n",
       "\n",
       "    .dataframe tbody tr th {\n",
       "        vertical-align: top;\n",
       "    }\n",
       "\n",
       "    .dataframe thead th {\n",
       "        text-align: right;\n",
       "    }\n",
       "</style>\n",
       "<table border=\"1\" class=\"dataframe\">\n",
       "  <thead>\n",
       "    <tr style=\"text-align: right;\">\n",
       "      <th></th>\n",
       "      <th>jobname</th>\n",
       "      <th>address</th>\n",
       "      <th>company</th>\n",
       "      <th>fiance</th>\n",
       "      <th>size</th>\n",
       "      <th>salary</th>\n",
       "      <th>experience</th>\n",
       "      <th>education</th>\n",
       "      <th>type</th>\n",
       "    </tr>\n",
       "  </thead>\n",
       "  <tbody>\n",
       "    <tr>\n",
       "      <th>294</th>\n",
       "      <td>数据分析师</td>\n",
       "      <td>科技园</td>\n",
       "      <td>来电科技</td>\n",
       "      <td>不需要融资</td>\n",
       "      <td>2000人以上</td>\n",
       "      <td>11k-16k</td>\n",
       "      <td>经验3-5年</td>\n",
       "      <td>本科</td>\n",
       "      <td>移动互联网</td>\n",
       "    </tr>\n",
       "    <tr>\n",
       "      <th>295</th>\n",
       "      <td>数据分析专家</td>\n",
       "      <td>南山区</td>\n",
       "      <td>字节跳动</td>\n",
       "      <td>C轮</td>\n",
       "      <td>2000人以上</td>\n",
       "      <td>35k-70k</td>\n",
       "      <td>经验不限</td>\n",
       "      <td>本科</td>\n",
       "      <td>文娱</td>\n",
       "    </tr>\n",
       "    <tr>\n",
       "      <th>296</th>\n",
       "      <td>数据分析师（社会化媒体方向）(J11446)</td>\n",
       "      <td>科技园</td>\n",
       "      <td>明略科技集团</td>\n",
       "      <td>D轮及以上</td>\n",
       "      <td>2000人以上</td>\n",
       "      <td>6k-8k</td>\n",
       "      <td>经验1-3年</td>\n",
       "      <td>本科</td>\n",
       "      <td>数据服务</td>\n",
       "    </tr>\n",
       "    <tr>\n",
       "      <th>297</th>\n",
       "      <td>数据分析</td>\n",
       "      <td>福田区</td>\n",
       "      <td>菲凡数据</td>\n",
       "      <td>不需要融资</td>\n",
       "      <td>50-150人</td>\n",
       "      <td>10k-15k</td>\n",
       "      <td>经验3-5年</td>\n",
       "      <td>本科</td>\n",
       "      <td>电商</td>\n",
       "    </tr>\n",
       "    <tr>\n",
       "      <th>298</th>\n",
       "      <td>数据分析师</td>\n",
       "      <td>科技园</td>\n",
       "      <td>微众信科</td>\n",
       "      <td>D轮及以上</td>\n",
       "      <td>150-500人</td>\n",
       "      <td>15k-25k</td>\n",
       "      <td>经验3-5年</td>\n",
       "      <td>本科</td>\n",
       "      <td>金融</td>\n",
       "    </tr>\n",
       "  </tbody>\n",
       "</table>\n",
       "</div>"
      ],
      "text/plain": [
       "                    jobname address company   fiance       size   salary  \\\n",
       "294                   数据分析师     科技园    来电科技   不需要融资     2000人以上  11k-16k   \n",
       "295                  数据分析专家     南山区    字节跳动      C轮     2000人以上  35k-70k   \n",
       "296  数据分析师（社会化媒体方向）(J11446)     科技园  明略科技集团   D轮及以上     2000人以上    6k-8k   \n",
       "297                    数据分析     福田区    菲凡数据   不需要融资     50-150人  10k-15k   \n",
       "298                   数据分析师     科技园    微众信科   D轮及以上    150-500人  15k-25k   \n",
       "\n",
       "                                      experience education   type  \n",
       "294                                      经验3-5年         本科  移动互联网  \n",
       "295                                        经验不限         本科     文娱  \n",
       "296                                      经验1-3年         本科   数据服务  \n",
       "297                                      经验3-5年         本科     电商  \n",
       "298                                      经验3-5年         本科     金融  "
      ]
     },
     "execution_count": 265,
     "metadata": {},
     "output_type": "execute_result"
    }
   ],
   "source": [
    "lagou.tail(5)"
   ]
  },
  {
   "cell_type": "code",
   "execution_count": 283,
   "metadata": {},
   "outputs": [],
   "source": [
    "#薪水范围造成薪水类别不同，先采取分割薪水最小值和最大值,再计算平均值\n",
    "lagou['start_salary'] = pd.to_numeric(lagou['salary'].map(lambda x:x.split('k-')[0]))\n",
    "lagou['end_salary'] = lagou['salary'].map(lambda x:x.split('k-')[1])\n",
    "lagou['end_salary'] = pd.to_numeric(lagou['end_salary'].str.replace('k', ''))\n",
    "lagou['avg_salary'] = (lagou['start_salary'] + lagou['end_salary'])/2"
   ]
  },
  {
   "cell_type": "code",
   "execution_count": 284,
   "metadata": {},
   "outputs": [
    {
     "data": {
      "text/html": [
       "<div>\n",
       "<style scoped>\n",
       "    .dataframe tbody tr th:only-of-type {\n",
       "        vertical-align: middle;\n",
       "    }\n",
       "\n",
       "    .dataframe tbody tr th {\n",
       "        vertical-align: top;\n",
       "    }\n",
       "\n",
       "    .dataframe thead th {\n",
       "        text-align: right;\n",
       "    }\n",
       "</style>\n",
       "<table border=\"1\" class=\"dataframe\">\n",
       "  <thead>\n",
       "    <tr style=\"text-align: right;\">\n",
       "      <th></th>\n",
       "      <th>jobname</th>\n",
       "      <th>address</th>\n",
       "      <th>company</th>\n",
       "      <th>fiance</th>\n",
       "      <th>size</th>\n",
       "      <th>salary</th>\n",
       "      <th>experience</th>\n",
       "      <th>education</th>\n",
       "      <th>type</th>\n",
       "      <th>start_salary</th>\n",
       "      <th>end_salary</th>\n",
       "      <th>avg_salary</th>\n",
       "    </tr>\n",
       "  </thead>\n",
       "  <tbody>\n",
       "    <tr>\n",
       "      <th>0</th>\n",
       "      <td>数据分析师</td>\n",
       "      <td>国贸</td>\n",
       "      <td>阿卡索外教网</td>\n",
       "      <td>C轮</td>\n",
       "      <td>2000人以上</td>\n",
       "      <td>15k-30k</td>\n",
       "      <td>经验应届毕业生</td>\n",
       "      <td>大专</td>\n",
       "      <td>教育</td>\n",
       "      <td>15</td>\n",
       "      <td>30</td>\n",
       "      <td>22.5</td>\n",
       "    </tr>\n",
       "    <tr>\n",
       "      <th>1</th>\n",
       "      <td>T1226高级数据分析师 (MJ000146)</td>\n",
       "      <td>南山区</td>\n",
       "      <td>极光</td>\n",
       "      <td>上市公司</td>\n",
       "      <td>500-2000人</td>\n",
       "      <td>25k-35k</td>\n",
       "      <td>经验3-5年</td>\n",
       "      <td>本科</td>\n",
       "      <td>企业服务</td>\n",
       "      <td>25</td>\n",
       "      <td>35</td>\n",
       "      <td>30.0</td>\n",
       "    </tr>\n",
       "    <tr>\n",
       "      <th>2</th>\n",
       "      <td>数据分析岗</td>\n",
       "      <td>福田区</td>\n",
       "      <td>中信银行信用卡中心</td>\n",
       "      <td>上市公司</td>\n",
       "      <td>2000人以上</td>\n",
       "      <td>20k-40k</td>\n",
       "      <td>经验3-5年</td>\n",
       "      <td>不限</td>\n",
       "      <td>移动互联网</td>\n",
       "      <td>20</td>\n",
       "      <td>40</td>\n",
       "      <td>30.0</td>\n",
       "    </tr>\n",
       "    <tr>\n",
       "      <th>3</th>\n",
       "      <td>市场与用户研究经理——数据分析方向</td>\n",
       "      <td>南山区</td>\n",
       "      <td>字节跳动</td>\n",
       "      <td>C轮</td>\n",
       "      <td>2000人以上</td>\n",
       "      <td>15k-30k</td>\n",
       "      <td>经验3-5年</td>\n",
       "      <td>本科</td>\n",
       "      <td>文娱</td>\n",
       "      <td>15</td>\n",
       "      <td>30</td>\n",
       "      <td>22.5</td>\n",
       "    </tr>\n",
       "    <tr>\n",
       "      <th>4</th>\n",
       "      <td>市场分析/市场调研</td>\n",
       "      <td>南油</td>\n",
       "      <td>三星电机</td>\n",
       "      <td>不需要融资</td>\n",
       "      <td>150-500人</td>\n",
       "      <td>15k-25k</td>\n",
       "      <td>经验3-5年</td>\n",
       "      <td>本科</td>\n",
       "      <td>通讯电子</td>\n",
       "      <td>15</td>\n",
       "      <td>25</td>\n",
       "      <td>20.0</td>\n",
       "    </tr>\n",
       "  </tbody>\n",
       "</table>\n",
       "</div>"
      ],
      "text/plain": [
       "                   jobname address    company   fiance        size   salary  \\\n",
       "0                    数据分析师      国贸     阿卡索外教网      C轮      2000人以上  15k-30k   \n",
       "1  T1226高级数据分析师 (MJ000146)     南山区         极光    上市公司    500-2000人  25k-35k   \n",
       "2                    数据分析岗     福田区  中信银行信用卡中心    上市公司      2000人以上  20k-40k   \n",
       "3        市场与用户研究经理——数据分析方向     南山区       字节跳动      C轮      2000人以上  15k-30k   \n",
       "4                市场分析/市场调研      南油       三星电机   不需要融资     150-500人  15k-25k   \n",
       "\n",
       "                                     experience education   type  \\\n",
       "0                                      经验应届毕业生         大专     教育   \n",
       "1                                       经验3-5年         本科   企业服务   \n",
       "2                                       经验3-5年         不限  移动互联网   \n",
       "3                                       经验3-5年         本科     文娱   \n",
       "4                                       经验3-5年         本科   通讯电子   \n",
       "\n",
       "   start_salary  end_salary  avg_salary  \n",
       "0            15          30        22.5  \n",
       "1            25          35        30.0  \n",
       "2            20          40        30.0  \n",
       "3            15          30        22.5  \n",
       "4            15          25        20.0  "
      ]
     },
     "execution_count": 284,
     "metadata": {},
     "output_type": "execute_result"
    }
   ],
   "source": [
    "lagou.head()"
   ]
  },
  {
   "cell_type": "code",
   "execution_count": 286,
   "metadata": {},
   "outputs": [],
   "source": [
    "#对experience列删除’经验‘二字\n",
    "lagou['experience'] = lagou['experience'].str.replace('经验','')"
   ]
  },
  {
   "cell_type": "code",
   "execution_count": 297,
   "metadata": {},
   "outputs": [
    {
     "data": {
      "text/html": [
       "<div>\n",
       "<style scoped>\n",
       "    .dataframe tbody tr th:only-of-type {\n",
       "        vertical-align: middle;\n",
       "    }\n",
       "\n",
       "    .dataframe tbody tr th {\n",
       "        vertical-align: top;\n",
       "    }\n",
       "\n",
       "    .dataframe thead th {\n",
       "        text-align: right;\n",
       "    }\n",
       "</style>\n",
       "<table border=\"1\" class=\"dataframe\">\n",
       "  <thead>\n",
       "    <tr style=\"text-align: right;\">\n",
       "      <th></th>\n",
       "      <th>jobname</th>\n",
       "      <th>address</th>\n",
       "      <th>company</th>\n",
       "      <th>fiance</th>\n",
       "      <th>size</th>\n",
       "      <th>salary</th>\n",
       "      <th>experience</th>\n",
       "      <th>education</th>\n",
       "      <th>type</th>\n",
       "      <th>start_salary</th>\n",
       "      <th>end_salary</th>\n",
       "      <th>avg_salary</th>\n",
       "    </tr>\n",
       "  </thead>\n",
       "  <tbody>\n",
       "    <tr>\n",
       "      <th>0</th>\n",
       "      <td>数据分析师</td>\n",
       "      <td>国贸</td>\n",
       "      <td>阿卡索外教网</td>\n",
       "      <td>C轮</td>\n",
       "      <td>2000人以上</td>\n",
       "      <td>15k-30k</td>\n",
       "      <td>应届毕业生</td>\n",
       "      <td>大专</td>\n",
       "      <td>教育</td>\n",
       "      <td>15</td>\n",
       "      <td>30</td>\n",
       "      <td>22.5</td>\n",
       "    </tr>\n",
       "    <tr>\n",
       "      <th>1</th>\n",
       "      <td>T1226高级数据分析师 (MJ000146)</td>\n",
       "      <td>南山区</td>\n",
       "      <td>极光</td>\n",
       "      <td>上市公司</td>\n",
       "      <td>500-2000人</td>\n",
       "      <td>25k-35k</td>\n",
       "      <td>3-5年</td>\n",
       "      <td>本科</td>\n",
       "      <td>企业服务</td>\n",
       "      <td>25</td>\n",
       "      <td>35</td>\n",
       "      <td>30.0</td>\n",
       "    </tr>\n",
       "    <tr>\n",
       "      <th>2</th>\n",
       "      <td>数据分析岗</td>\n",
       "      <td>福田区</td>\n",
       "      <td>中信银行信用卡中心</td>\n",
       "      <td>上市公司</td>\n",
       "      <td>2000人以上</td>\n",
       "      <td>20k-40k</td>\n",
       "      <td>3-5年</td>\n",
       "      <td>不限</td>\n",
       "      <td>移动互联网</td>\n",
       "      <td>20</td>\n",
       "      <td>40</td>\n",
       "      <td>30.0</td>\n",
       "    </tr>\n",
       "    <tr>\n",
       "      <th>3</th>\n",
       "      <td>市场与用户研究经理——数据分析方向</td>\n",
       "      <td>南山区</td>\n",
       "      <td>字节跳动</td>\n",
       "      <td>C轮</td>\n",
       "      <td>2000人以上</td>\n",
       "      <td>15k-30k</td>\n",
       "      <td>3-5年</td>\n",
       "      <td>本科</td>\n",
       "      <td>文娱</td>\n",
       "      <td>15</td>\n",
       "      <td>30</td>\n",
       "      <td>22.5</td>\n",
       "    </tr>\n",
       "    <tr>\n",
       "      <th>4</th>\n",
       "      <td>市场分析/市场调研</td>\n",
       "      <td>南油</td>\n",
       "      <td>三星电机</td>\n",
       "      <td>不需要融资</td>\n",
       "      <td>150-500人</td>\n",
       "      <td>15k-25k</td>\n",
       "      <td>3-5年</td>\n",
       "      <td>本科</td>\n",
       "      <td>通讯电子</td>\n",
       "      <td>15</td>\n",
       "      <td>25</td>\n",
       "      <td>20.0</td>\n",
       "    </tr>\n",
       "  </tbody>\n",
       "</table>\n",
       "</div>"
      ],
      "text/plain": [
       "                   jobname address    company   fiance        size   salary  \\\n",
       "0                    数据分析师      国贸     阿卡索外教网      C轮      2000人以上  15k-30k   \n",
       "1  T1226高级数据分析师 (MJ000146)     南山区         极光    上市公司    500-2000人  25k-35k   \n",
       "2                    数据分析岗     福田区  中信银行信用卡中心    上市公司      2000人以上  20k-40k   \n",
       "3        市场与用户研究经理——数据分析方向     南山区       字节跳动      C轮      2000人以上  15k-30k   \n",
       "4                市场分析/市场调研      南油       三星电机   不需要融资     150-500人  15k-25k   \n",
       "\n",
       "                                   experience education   type  start_salary  \\\n",
       "0                                      应届毕业生         大专     教育            15   \n",
       "1                                       3-5年         本科   企业服务            25   \n",
       "2                                       3-5年         不限  移动互联网            20   \n",
       "3                                       3-5年         本科     文娱            15   \n",
       "4                                       3-5年         本科   通讯电子            15   \n",
       "\n",
       "   end_salary  avg_salary  \n",
       "0          30        22.5  \n",
       "1          35        30.0  \n",
       "2          40        30.0  \n",
       "3          30        22.5  \n",
       "4          25        20.0  "
      ]
     },
     "execution_count": 297,
     "metadata": {},
     "output_type": "execute_result"
    }
   ],
   "source": [
    "lagou.head(5)"
   ]
  },
  {
   "cell_type": "markdown",
   "metadata": {},
   "source": [
    "# 2单变量分析与可视化"
   ]
  },
  {
   "cell_type": "code",
   "execution_count": 262,
   "metadata": {},
   "outputs": [],
   "source": [
    "#让python在可视化中读出中文字符\n",
    "from matplotlib.font_manager import FontProperties\n",
    "myfont=FontProperties(fname=r'C:\\Windows\\Fonts\\simhei.ttf',size=14)\n",
    "sns.set(font=myfont.get_name())"
   ]
  },
  {
   "cell_type": "markdown",
   "metadata": {},
   "source": [
    "## 2.1数据分析岗位的薪酬状况"
   ]
  },
  {
   "cell_type": "code",
   "execution_count": 285,
   "metadata": {},
   "outputs": [
    {
     "data": {
      "text/plain": [
       "<matplotlib.axes._subplots.AxesSubplot at 0x11b4fa74108>"
      ]
     },
     "execution_count": 285,
     "metadata": {},
     "output_type": "execute_result"
    },
    {
     "data": {
      "image/png": "[encoded data removed]",
      "text/plain": [
       "<Figure size 432x288 with 1 Axes>"
      ]
     },
     "metadata": {
      "needs_background": "light"
     },
     "output_type": "display_data"
    }
   ],
   "source": [
    "lagou['avg_salary'].plot(kind = 'hist')"
   ]
  },
  {
   "cell_type": "markdown",
   "metadata": {},
   "source": [
    "在深圳，按提供的薪资平均值看，商业数据分析岗位的薪资高。薪资主要集中在10k-20k/月，有少部分公司招聘高级数据分析师或专家，薪资水平在30k以上。"
   ]
  },
  {
   "cell_type": "markdown",
   "metadata": {},
   "source": [
    "## 2.2岗位工作经验和学历要求"
   ]
  },
  {
   "cell_type": "code",
   "execution_count": 381,
   "metadata": {},
   "outputs": [
    {
     "data": {
      "image/png": "[encoded data removed]",
      "text/plain": [
       "<Figure size 720x576 with 1 Axes>"
      ]
     },
     "metadata": {
      "needs_background": "light"
     },
     "output_type": "display_data"
    }
   ],
   "source": [
    "order = lagou.groupby(by=[\"experience\"])[\"avg_salary\"].median().sort_values(ascending = False).index\n",
    "plt.figure(figsize = (10,8))\n",
    "sns.boxplot(y = 'experience', x = 'avg_salary', data = lagou, order = order)\n",
    "plt.tick_params(labelsize = 15)"
   ]
  },
  {
   "cell_type": "code",
   "execution_count": 380,
   "metadata": {},
   "outputs": [
    {
     "data": {
      "image/png": "[encoded data removed]",
      "text/plain": [
       "<Figure size 720x576 with 1 Axes>"
      ]
     },
     "metadata": {
      "needs_background": "light"
     },
     "output_type": "display_data"
    }
   ],
   "source": [
    "plt.figure(figsize = (10,8))\n",
    "sns.countplot(y = 'experience', data = lagou, order = lagou['experience'].value_counts().index )\n",
    "plt.tick_params(labelsize = 15)"
   ]
  },
  {
   "cell_type": "markdown",
   "metadata": {},
   "source": [
    "发现： \n",
    "1. 数据分析岗位应证了那句“姜还是老的辣”，工作经验越多的应聘者，公司给的薪资水平越高。大部分职位对应聘人员的岗位经验要求是3-5年，可见数据分析师需要多年的实操和项目经验。\n",
    "2. 不限经验的岗位薪资的分散度大，从低于10k到30k不等，说明不限经验的岗位在不同公司，不同经验的应聘者的薪资差距比较大。\n",
    "3. 应届毕业生积累了1-3年经验后，最高工资可以翻1-2倍"
   ]
  },
  {
   "cell_type": "code",
   "execution_count": 353,
   "metadata": {},
   "outputs": [
    {
     "data": {
      "image/png": "[encoded data removed]",
      "text/plain": [
       "<Figure size 720x576 with 1 Axes>"
      ]
     },
     "metadata": {
      "needs_background": "light"
     },
     "output_type": "display_data"
    }
   ],
   "source": [
    "plt.figure(figsize = (10,8))\n",
    "sns.boxplot(y = 'education', x = 'avg_salary', data = lagou)\n",
    "plt.tick_params(labelsize = 15)"
   ]
  },
  {
   "cell_type": "code",
   "execution_count": 317,
   "metadata": {},
   "outputs": [
    {
     "data": {
      "image/png": "[encoded data removed]",
      "text/plain": [
       "<Figure size 720x576 with 1 Axes>"
      ]
     },
     "metadata": {
      "needs_background": "light"
     },
     "output_type": "display_data"
    }
   ],
   "source": [
    "plt.figure(figsize = (10,8))\n",
    "sns.countplot(y = 'education', data = lagou)\n",
    "plt.tick_params(labelsize = 15)"
   ]
  },
  {
   "cell_type": "markdown",
   "metadata": {},
   "source": [
    "发现： \n",
    "1. 数据分析岗位对于本科毕业生和硕士毕业生来说薪资福利远高于大专毕业生，最高薪资出现在要求本科学历的岗位。\n",
    "2. 要求硕士毕业的岗位的平均薪资最高，但薪资分散度较大，有的岗位甚至低于大专要求的薪资。\n",
    "3. 学历不限的岗位提供的薪资也很可观，说明数据分析岗位一方面看学历，另一方面更注重经验。绝大部分职位要求应聘人为本科毕业，大专的比例比硕士要高一些，结合岗位工作经验的要求，可见数据分析岗位对工作经验和学历要求都比较高。"
   ]
  },
  {
   "cell_type": "markdown",
   "metadata": {},
   "source": [
    "## 2.3行业领域"
   ]
  },
  {
   "cell_type": "code",
   "execution_count": 329,
   "metadata": {},
   "outputs": [
    {
     "data": {
      "text/plain": [
       "移动互联网    0.30\n",
       "社交       0.13\n",
       "金融       0.11\n",
       "电商       0.09\n",
       "企业服务     0.08\n",
       "文娱       0.06\n",
       "数据服务     0.04\n",
       "硬件       0.04\n",
       "其他       0.02\n",
       "消费生活     0.02\n",
       "游戏       0.02\n",
       "人工智能     0.02\n",
       "房产家居     0.02\n",
       "通讯电子     0.02\n",
       "教育       0.01\n",
       "软件开发     0.01\n",
       "物流       0.01\n",
       "工具       0.00\n",
       "Name: type, dtype: float64"
      ]
     },
     "execution_count": 329,
     "metadata": {},
     "output_type": "execute_result"
    }
   ],
   "source": [
    "round(lagou['type'].value_counts(1),2)"
   ]
  },
  {
   "cell_type": "code",
   "execution_count": 339,
   "metadata": {
    "scrolled": true
   },
   "outputs": [
    {
     "data": {
      "text/plain": [
       "<matplotlib.axes._subplots.AxesSubplot at 0x11b4e63ce88>"
      ]
     },
     "execution_count": 339,
     "metadata": {},
     "output_type": "execute_result"
    },
    {
     "data": {
      "image/png": "[encoded data removed]",
      "text/plain": [
       "<Figure size 720x1440 with 1 Axes>"
      ]
     },
     "metadata": {
      "needs_background": "light"
     },
     "output_type": "display_data"
    }
   ],
   "source": [
    "plt.figure(figsize = (10,20))\n",
    "sns.countplot( y = 'type',hue = 'size', data =lagou, order = lagou['type'].value_counts().index)"
   ]
  },
  {
   "cell_type": "markdown",
   "metadata": {},
   "source": [
    "发现： \n",
    "1. 爬取的数据中，一共有18个行业招聘数据分析岗位，其中移动互联网行业对数据分析师岗位的需求最多，占据30%，其次是社交(13%)、金融(11%)、电商和企业服务。这几个行业几乎都属于互联网行业下的细分行业，在大数据时代，这些行业对数据分析的应用越来越广，对数据分析师人才的需求越来越大。\n",
    "2. 招聘数据分析师岗位的公司中，移动互联网公司涵盖了大、中、小型企业，移动互联网行业玩家多，垂直细分领域多，由于业务原因即使是小型公司也会有自己的数据仓库，各个领域都对数据分析师的需求大。而社交、金融、电商、文娱、硬件等行业主要是2000人以上规模的大公司。"
   ]
  },
  {
   "cell_type": "markdown",
   "metadata": {},
   "source": [
    "## 2.4融资阶段"
   ]
  },
  {
   "cell_type": "code",
   "execution_count": 349,
   "metadata": {},
   "outputs": [
    {
     "data": {
      "text/plain": [
       " 上市公司      0.32\n",
       " 不需要融资     0.24\n",
       " C轮        0.12\n",
       " 未融资       0.11\n",
       " A轮        0.08\n",
       " B轮        0.08\n",
       " D轮及以上     0.04\n",
       " 天使轮       0.01\n",
       "Name: fiance, dtype: float64"
      ]
     },
     "execution_count": 349,
     "metadata": {},
     "output_type": "execute_result"
    }
   ],
   "source": [
    "round(lagou['fiance'].value_counts(1),2)"
   ]
  },
  {
   "cell_type": "code",
   "execution_count": 352,
   "metadata": {},
   "outputs": [
    {
     "data": {
      "text/plain": [
       "<matplotlib.axes._subplots.AxesSubplot at 0x11b52c29d88>"
      ]
     },
     "execution_count": 352,
     "metadata": {},
     "output_type": "execute_result"
    },
    {
     "data": {
      "image/png": "[encoded data removed]",
      "text/plain": [
       "<Figure size 720x1440 with 1 Axes>"
      ]
     },
     "metadata": {
      "needs_background": "light"
     },
     "output_type": "display_data"
    }
   ],
   "source": [
    "plt.figure(figsize = (10,20))\n",
    "sns.countplot( y = 'type',hue = 'fiance', data =lagou, order = lagou['type'].value_counts().index)"
   ]
  },
  {
   "cell_type": "markdown",
   "metadata": {},
   "source": [
    "发现： \n",
    "1. 上市公司和不需要融资的公司对数据分析师人才需求大，分别占据了32%和24%。\n",
    "2. 移动互联网公司中不需要融资的公司居多。在融资轮阶段的公司中，处于B轮的公司最多，A轮和D轮的公司数量相当，说明移动互联网行业的新入的，还在迅速扩张的玩家多，体量大、成熟的公司也多。"
   ]
  },
  {
   "cell_type": "code",
   "execution_count": 390,
   "metadata": {
    "scrolled": false
   },
   "outputs": [
    {
     "data": {
      "text/plain": [
       "<matplotlib.axes._subplots.AxesSubplot at 0x11b582ca288>"
      ]
     },
     "execution_count": 390,
     "metadata": {},
     "output_type": "execute_result"
    },
    {
     "data": {
      "image/png": "[encoded data removed]",
      "text/plain": [
       "<Figure size 720x360 with 1 Axes>"
      ]
     },
     "metadata": {
      "needs_background": "light"
     },
     "output_type": "display_data"
    }
   ],
   "source": [
    "plt.figure(figsize = (10,5))\n",
    "order2 = lagou.groupby(by=[\"fiance\"])[\"avg_salary\"].mean().sort_values(ascending = False).index\n",
    "sns.barplot(x = 'avg_salary', y = 'fiance', data =lagou, order =order2)"
   ]
  },
  {
   "cell_type": "markdown",
   "metadata": {},
   "source": [
    "发现：上市公司、D轮及以上的公司提供的薪资水平更高。"
   ]
  },
  {
   "cell_type": "markdown",
   "metadata": {},
   "source": [
    "总结： 在深圳，上市公司、D轮及以上公司等大平台多，移动互联网公司多有在深圳有总部或分公司，因此对数据分析师人才的需求大，商业数据分析师的岗位总体薪资高，同时岗位的经验和学历要求较高，主要要求本科学历和3-5年的工作经验。"
   ]
  }
 ],
 "metadata": {
  "kernelspec": {
   "display_name": "Python 3",
   "language": "python",
   "name": "python3"
  },
  "language_info": {
   "codemirror_mode": {
    "name": "ipython",
    "version": 3
   },
   "file_extension": ".py",
   "mimetype": "text/x-python",
   "name": "python",
   "nbconvert_exporter": "python",
   "pygments_lexer": "ipython3",
   "version": "3.7.6"
  }
 },
 "nbformat": 4,
 "nbformat_minor": 4
}
